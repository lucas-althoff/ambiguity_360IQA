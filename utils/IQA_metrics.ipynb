{
 "cells": [
  {
   "cell_type": "code",
   "execution_count": 2,
   "metadata": {},
   "outputs": [
    {
     "name": "stdout",
     "output_type": "stream",
     "text": [
      "SSIM (0.8865183478633406, 0.8909668265498482)\n",
      "UQI 0.9784175912808911\n",
      "RMSE 5.4465182704416435\n"
     ]
    }
   ],
   "source": [
    "from sewar.full_ref import uqi,ssim,rmse\n",
    "from PIL import Image\n",
    "import numpy as np\n",
    "\n",
    "#mse, rmse, psnr, rmse_sw, uqi, ssim, ergas, scc, rase, sam, msssim, vifp, psnrb \n",
    "#https://github.com/andrewekhalel/sewar\n",
    "\n",
    "test2d = [r\".\\data\\live\\babygirl_jpeg3.bmp\",r\".\\data\\live\\babygirl_jpeg1.bmp\"]\n",
    "test360 = [r\".\\data\\oiqa\\img81.jpg\",r\".\\data\\oiqa\\img82.jpg\"]\n",
    "\n",
    "img1 = Image.open(test2d[0]) \n",
    "img2 = Image.open(test2d[1])\n",
    "\n",
    "img1_np = np.array(img1)\n",
    "img2_np = np.array(img2) \n",
    "\n",
    "#img1.show() \n",
    "print(\"SSIM\", ssim(img1_np,img2_np))\n",
    "print(\"UQI\", uqi(img1_np,img2_np))\n",
    "print(\"RMSE\", rmse(img1_np,img2_np))"
   ]
  }
 ],
 "metadata": {
  "interpreter": {
   "hash": "c7eff589202d1b081309a21c1fcab32e7bd6b92ee77a4b4c9e08aff7652052eb"
  },
  "kernelspec": {
   "display_name": "Python 3.9.5 64-bit (system)",
   "language": "python",
   "name": "python3"
  },
  "language_info": {
   "codemirror_mode": {
    "name": "ipython",
    "version": 3
   },
   "file_extension": ".py",
   "mimetype": "text/x-python",
   "name": "python",
   "nbconvert_exporter": "python",
   "pygments_lexer": "ipython3",
   "version": "3.9.5"
  },
  "orig_nbformat": 4
 },
 "nbformat": 4,
 "nbformat_minor": 2
}
